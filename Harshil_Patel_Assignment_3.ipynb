{
  "cells": [
    {
      "cell_type": "markdown",
      "id": "92778525",
      "metadata": {
        "id": "92778525"
      },
      "source": [
        "# Assignment 3: Non-Linear Models and Validation Metrics (37 total marks)\n",
        "### Due: October 24 at 11:59pm\n",
        "\n",
        "### Name: Harshil Patel"
      ]
    },
    {
      "cell_type": "markdown",
      "id": "ce31b39a",
      "metadata": {
        "id": "ce31b39a"
      },
      "source": [
        "### In this assignment, you will need to write code that uses non-linear models to perform classification and regression tasks. You will also be asked to describe the process by which you came up with the code. More details can be found below. Please cite any websites or AI tools that you used to help you with this assignment."
      ]
    },
    {
      "cell_type": "markdown",
      "id": "cf275ca7",
      "metadata": {
        "id": "cf275ca7"
      },
      "source": [
        "### Import Libraries"
      ]
    },
    {
      "cell_type": "code",
      "execution_count": 1,
      "id": "2b67a661",
      "metadata": {
        "id": "2b67a661"
      },
      "outputs": [],
      "source": [
        "import numpy as np\n",
        "import pandas as pd\n",
        "import matplotlib.pyplot as plt\n",
        "import seaborn as sns\n",
        "from sklearn.model_selection import train_test_split\n",
        "from sklearn.tree import DecisionTreeRegressor\n",
        "from sklearn.ensemble import RandomForestRegressor, GradientBoostingRegressor\n",
        "from sklearn.metrics import mean_squared_error\n",
        "from yellowbrick.regressor import ResidualsPlot\n",
        "from sklearn.metrics import r2_score\n",
        "\n",
        "from sklearn.model_selection import cross_validate\n",
        "from sklearn.metrics import confusion_matrix, classification_report"
      ]
    },
    {
      "cell_type": "markdown",
      "id": "5ee2d2c3",
      "metadata": {
        "id": "5ee2d2c3"
      },
      "source": [
        "## Part 1: Regression (14.5 marks)\n",
        "\n",
        "For this section, we will be continuing with the concrete example from yellowbrick. You will need to compare these results to the results from the previous assignment. Please use the results from the solution if you were unable to complete Assignment 2"
      ]
    },
    {
      "cell_type": "markdown",
      "id": "8219f163",
      "metadata": {
        "id": "8219f163"
      },
      "source": [
        "### Step 1: Data Input (0.5 marks)\n",
        "\n",
        "The data used for this task can be downloaded using the yellowbrick library:\n",
        "https://www.scikit-yb.org/en/latest/api/datasets/concrete.html\n",
        "\n",
        "Use the yellowbrick function `load_concrete()` to load the concrete dataset into the feature matrix `X` and target vector `y`."
      ]
    },
    {
      "cell_type": "code",
      "execution_count": 2,
      "id": "2af8bd32",
      "metadata": {
        "colab": {
          "base_uri": "https://localhost:8080/"
        },
        "id": "2af8bd32",
        "outputId": "3bbd4472-b647-4aca-e958-b9243b51c306"
      },
      "outputs": [
        {
          "output_type": "stream",
          "name": "stdout",
          "text": [
            "Shape of X (features): (1030, 8)\n",
            "Shape of y (target): (1030,)\n"
          ]
        }
      ],
      "source": [
        "# Import the necessary libraries from Yellowbrick and load_concrete dataset\n",
        "import yellowbrick\n",
        "from yellowbrick.datasets import load_concrete\n",
        "\n",
        "# Load the concrete dataset into X (features) and y (target)\n",
        "X, y = load_concrete()\n",
        "\n",
        "# Print the shape of the feature matrix X\n",
        "print(\"Shape of X (features):\", X.shape)\n",
        "\n",
        "# Print the shape of the target vector y\n",
        "print(\"Shape of y (target):\", y.shape)\n"
      ]
    },
    {
      "cell_type": "markdown",
      "id": "42fea4cc",
      "metadata": {
        "id": "42fea4cc"
      },
      "source": [
        "### Step 2: Data Processing (0 marks)\n",
        "\n",
        "Data processing was completed in the previous assignment. No need to repeat here."
      ]
    },
    {
      "cell_type": "markdown",
      "id": "2a245d00",
      "metadata": {
        "id": "2a245d00"
      },
      "source": [
        "### Step 3: Implement Machine Learning Model\n",
        "\n",
        "1. Import the Decision Tree, Random Forest and Gradient Boosting Machines regression models from sklearn\n",
        "2. Instantiate the three models with `max_depth = 5`. Are there any other parameters that you will need to set?\n",
        "3. Implement each machine learning model with `X` and `y`"
      ]
    },
    {
      "cell_type": "markdown",
      "id": "3f994e31",
      "metadata": {
        "id": "3f994e31"
      },
      "source": [
        "### Step 4: Validate Model\n",
        "\n",
        "Calculate the average training and validation accuracy using mean squared error with cross-validation. To do this, you will need to set `scoring='neg_mean_squared_error'` in your `cross_validate` function and negate the results (multiply by -1)"
      ]
    },
    {
      "cell_type": "markdown",
      "id": "5fc3f7a8",
      "metadata": {
        "id": "5fc3f7a8"
      },
      "source": [
        "### Step 5: Visualize Results (4 marks)\n",
        "\n",
        "1. Create a pandas DataFrame `results` with columns: Training accuracy and Validation accuracy, and index: DT, RF and GB\n",
        "2. Add the accuracy results to the `results` DataFrame\n",
        "3. Print `results`"
      ]
    },
    {
      "cell_type": "code",
      "execution_count": 4,
      "id": "fdc93a78",
      "metadata": {
        "colab": {
          "base_uri": "https://localhost:8080/"
        },
        "id": "fdc93a78",
        "outputId": "8504183f-f53b-4b4f-d126-2600c14d64f9"
      },
      "outputs": [
        {
          "output_type": "stream",
          "name": "stdout",
          "text": [
            "   Training MSE Validation MSE\n",
            "DT    73.929864      69.812835\n",
            "RF     28.27354      20.847017\n",
            "GB    27.920575      24.899703\n"
          ]
        }
      ],
      "source": [
        "# TO DO: ADD YOUR CODE HERE FOR STEPS 3-5\n",
        "# Note: for any random state parameters, you can use random_state = 0\n",
        "# HINT: USING A LOOP TO STORE THE DATA IN YOUR RESULTS DATAFRAME WILL BE MORE EFFICIENT\n",
        "\n",
        "# Import necessary libraries and modules\n",
        "from sklearn.model_selection import train_test_split, cross_val_score\n",
        "from sklearn.metrics import mean_squared_error\n",
        "import pandas as pd\n",
        "\n",
        "# Split the dataset into training and validation sets\n",
        "X_train, X_val, y_train, y_val = train_test_split(X, y, test_size=0.2, random_state=0)\n",
        "\n",
        "# Define a dictionary of regression models to be evaluated\n",
        "models = {\n",
        "    \"DT\": DecisionTreeRegressor(max_depth=5),\n",
        "    \"RF\": RandomForestRegressor(n_estimators=100),\n",
        "    \"GB\": GradientBoostingRegressor(n_estimators=100, learning_rate=0.1)\n",
        "}\n",
        "\n",
        "# Create an empty DataFrame to store results with model names as columns\n",
        "results = pd.DataFrame(columns=[\"Training MSE\", \"Validation MSE\"], index=models.keys())\n",
        "\n",
        "# Loop through each model and evaluate its performance\n",
        "for model_name, model in models.items():\n",
        "    # Evaluate the model's performance using cross-validation on the training data\n",
        "    train_scores = cross_val_score(model, X_train, y_train, cv=5, scoring=\"neg_mean_squared_error\")\n",
        "    train_mse = -train_scores.mean()  # Calculate mean squared error (MSE) from negative scores\n",
        "\n",
        "    # Fit the model on the training data\n",
        "    model.fit(X_train, y_train)\n",
        "\n",
        "    # Make predictions on the validation set and calculate the validation MSE\n",
        "    y_val_pred = model.predict(X_val)\n",
        "    val_mse = mean_squared_error(y_val, y_val_pred)\n",
        "\n",
        "    # Store the training and validation MSE in the results DataFrame\n",
        "    results.loc[model_name, \"Training MSE\"] = train_mse\n",
        "    results.loc[model_name, \"Validation MSE\"] = val_mse\n",
        "\n",
        "# Print the results DataFrame showing training and validation MSE for each model\n",
        "print(results)\n"
      ]
    },
    {
      "cell_type": "markdown",
      "id": "31715a9d",
      "metadata": {
        "id": "31715a9d"
      },
      "source": [
        "Repeat the step above to print the R2 score instead of the mean-squared error. For this case, you can use `scoring='r2'`"
      ]
    },
    {
      "cell_type": "code",
      "execution_count": 5,
      "id": "83539f47",
      "metadata": {
        "colab": {
          "base_uri": "https://localhost:8080/"
        },
        "id": "83539f47",
        "outputId": "507767f9-76e2-443a-eb6c-5aa331a01453"
      },
      "outputs": [
        {
          "output_type": "stream",
          "name": "stdout",
          "text": [
            "   Training R2 Validation R2\n",
            "DT    0.996361      0.795116\n",
            "RF    0.985199      0.922475\n",
            "GB    0.948657      0.905314\n"
          ]
        }
      ],
      "source": [
        "# Split the dataset into a training and validation set\n",
        "X_train, X_val, y_train, y_val = train_test_split(X, y, test_size=0.2, random_state=0)\n",
        "\n",
        "# Initialize the models\n",
        "models = {\n",
        "    \"DT\": DecisionTreeRegressor(),\n",
        "    \"RF\": RandomForestRegressor(),\n",
        "    \"GB\": GradientBoostingRegressor()\n",
        "}\n",
        "\n",
        "# Initialize the results DataFrame\n",
        "results = pd.DataFrame(columns=[\"Training R2\", \"Validation R2\"], index=models.keys())\n",
        "\n",
        "# Loop through the models\n",
        "for model_name, model in models.items():\n",
        "    model.fit(X_train, y_train)\n",
        "\n",
        "    # Calculate training R2 score\n",
        "    y_train_pred = model.predict(X_train)\n",
        "    train_r2 = r2_score(y_train, y_train_pred)\n",
        "\n",
        "    # Calculate validation R2 score\n",
        "    y_val_pred = model.predict(X_val)\n",
        "    val_r2 = r2_score(y_val, y_val_pred)\n",
        "\n",
        "    # Add R2 score results to the DataFrame\n",
        "    results.loc[model_name, \"Training R2\"] = train_r2\n",
        "    results.loc[model_name, \"Validation R2\"] = val_r2\n",
        "\n",
        "# Print the results DataFrame\n",
        "print(results)"
      ]
    },
    {
      "cell_type": "markdown",
      "id": "a5257a98",
      "metadata": {
        "id": "a5257a98"
      },
      "source": [
        "### Questions (6 marks)\n",
        "1. How do these results compare to the results using a linear model in the previous assignment? Use values.\n",
        "1. Out of the models you tested, which model would you select for this dataset and why?\n",
        "1. If you wanted to increase the accuracy of the tree-based models, what would you do? Provide two suggestions.\n",
        "\n",
        "*ANSWER HERE*\n",
        "\n",
        "\n",
        "\n",
        "1.\n",
        "Regarding Training Mean Squared Error (MSE): In the previous assignment, the linear model yielded an MSE of 107, while the DT, RF, and GB non-linear models produced MSE values of 74, 28, and 28, respectively. Since the MSE is considerably lower for all three non-linear models compared to the linear model, it can be inferred that the non-linear models outperform the linear model on this dataset.\n",
        "\n",
        "When considering the Training R-squared (R2): The linear model resulted in an R2 value of 0.61, whereas the DT, RF, and GB non-linear models achieved R2 values of 0.996, 0.985, and 0.949, respectively. Given that the R2 values for the non-linear models are much closer to 1, it is evident that the non-linear models are better suited for this dataset.\n",
        "\n",
        "2. My choice for this dataset would be the Random Forest model. It demonstrates a good fit to the data with a Training MSE of 28 and an R2 of 0.98. Furthermore, it generalizes well to unseen data, and it strikes an optimal balance between training and validation performance.\n",
        "\n",
        "3.\n",
        "\n",
        "\n",
        "There are two recommendations to enhance the precision of tree-based models:\n",
        "\n",
        "a. Optimization of Hyperparameters:\n",
        "You can boost the accuracy of your tree-based models by optimizing hyperparameters. Utilize techniques such as Grid Search or Random Search to conduct a hyperparameter optimization process, which will help you discover the most suitable combination of hyperparameters for your tree-based models. These hyperparameters encompass parameters like the maximum tree depth, the number of trees (in the case of Random Forest), learning rate (for Gradient Boosting), and others. Adjusting these hyperparameters can yield significant improvements in model accuracy.\n",
        "\n",
        "b. Implementing Regularization:\n",
        "If your tree-based model is prone to overfitting, consider employing regularization techniques. Certain tree-based models, such as Gradient Boosting, offer the option to apply L1 and L2 regularization to mitigate overfitting issues."
      ]
    },
    {
      "cell_type": "markdown",
      "id": "37b238f4",
      "metadata": {
        "id": "37b238f4"
      },
      "source": [
        "### Process Description (4 marks)\n",
        "Please describe the process you used to create your code. Cite any websites or generative AI tools used. You can use the following questions as guidance:\n",
        "1. Where did you source your code?\n",
        "1. In what order did you complete the steps?\n",
        "1. If you used generative AI, what prompts did you use? Did you need to modify the code at all? Why or why not?\n",
        "1. Did you have any challenges? If yes, what were they? If not, what helped you to be successful?"
      ]
    },
    {
      "cell_type": "markdown",
      "id": "93097bfe",
      "metadata": {
        "id": "93097bfe"
      },
      "source": [
        "*DESCRIBE YOUR PROCESS HERE*\n",
        "\n",
        "\n",
        "1. I leveraged the knowledge I gained from my lectures to formulate the core structure of the code and then utilized generative AI assistance to ensure precise syntax.\n",
        "2. I followed the order of the suggested questions when completing them.\n",
        "3. While working with AI, it overlooked certain details, such as setting the random_state to 42 when we were instructed to use 0. As a result, I had to cross-check and make necessary adjustments. Some of the AI prompts included: \"Partition the data into training and validation sets\" and \"Generate a dataframe with columns for Training accuracy and Validation accuracy, indexed by DT, RF, and GB.\"\n",
        "4. I encountered difficulties in selecting the most suitable model for this dataset. While the Decision Tree (DT) performed well on the training dataset, it didn't yield the best validation results. This prompted me to explore further, conducting online research to better understand the process of choosing the right model and resolve this issue."
      ]
    },
    {
      "cell_type": "markdown",
      "id": "f7c6de86",
      "metadata": {
        "id": "f7c6de86"
      },
      "source": [
        "## Part 2: Classification (17.5 marks)\n",
        "\n",
        "You have been asked to develop code that can help the user classify different wine samples. Following the machine learning workflow described in class, write the relevant code in each of the steps below:"
      ]
    },
    {
      "cell_type": "markdown",
      "id": "5f9d33a8",
      "metadata": {
        "id": "5f9d33a8"
      },
      "source": [
        "### Step 1: Data Input (2 marks)\n",
        "\n",
        "The data used for this task can be downloaded from UCI: https://archive.ics.uci.edu/dataset/109/wine\n",
        "\n",
        "Use the pandas library to load the dataset. You must define the column headers if they are not included in the dataset\n",
        "\n",
        "You will need to split the dataset into feature matrix `X` and target vector `y`. Which column represents the target vector?\n",
        "\n",
        "Print the size and type of `X` and `y`"
      ]
    },
    {
      "cell_type": "code",
      "execution_count": 23,
      "id": "33583c67",
      "metadata": {
        "colab": {
          "base_uri": "https://localhost:8080/"
        },
        "id": "33583c67",
        "outputId": "f5c511c5-1558-42a9-ca18-55a7dc6ad1eb"
      },
      "outputs": [
        {
          "output_type": "stream",
          "name": "stdout",
          "text": [
            "Size of X: (178, 13)\n",
            "Size of y: (178,)\n",
            "Type of X: <class 'pandas.core.frame.DataFrame'>\n",
            "Type of y: <class 'pandas.core.series.Series'>\n"
          ]
        }
      ],
      "source": [
        "import pandas as pd  # Import the pandas library for data manipulation\n",
        "\n",
        "# Define the column headers for the dataset\n",
        "column_headers = [\n",
        "    \"Class\",  # Target variable (wine class)\n",
        "    \"Alcohol\",\n",
        "    \"Malic Acid\",\n",
        "    \"Ash\",\n",
        "    \"Alcalinity of Ash\",\n",
        "    \"Magnesium\",\n",
        "    \"Total Phenols\",\n",
        "    \"Flavanoids\",\n",
        "    \"Nonflavanoid Phenols\",\n",
        "    \"Proanthocyanins\",\n",
        "    \"Color Intensity\",\n",
        "    \"Hue\",\n",
        "    \"OD280/OD315 of Diluted Wines\",\n",
        "    \"Proline\"\n",
        "]\n",
        "\n",
        "# URL of the dataset to be read into a pandas DataFrame\n",
        "url = \"https://archive.ics.uci.edu/ml/machine-learning-databases/wine/wine.data\"\n",
        "\n",
        "# Read the dataset from the URL and assign column names\n",
        "wine_data = pd.read_csv(url, names=column_headers)\n",
        "\n",
        "# Split the dataset into features (X) and the target variable (y)\n",
        "X = wine_data.drop(\"Class\", axis=1)  # X contains all columns except \"Class\"\n",
        "y = wine_data[\"Class\"]  # y contains the \"Class\" column\n",
        "\n",
        "# Print information about the data\n",
        "print(\"Size of X:\", X.shape)  # Display the dimensions of X\n",
        "print(\"Size of y:\", y.shape)  # Display the dimensions of y\n",
        "print(\"Type of X:\", type(X))  # Display the data type of X (should be a DataFrame)\n",
        "print(\"Type of y:\", type(y))  # Display the data type of y (should be a Series)\n",
        "\n"
      ]
    },
    {
      "cell_type": "markdown",
      "id": "156db208",
      "metadata": {
        "id": "156db208"
      },
      "source": [
        "### Step 2: Data Processing (1.5 marks)"
      ]
    },
    {
      "cell_type": "markdown",
      "id": "a28af110",
      "metadata": {
        "id": "a28af110"
      },
      "source": [
        "Print the first five rows of the dataset to inspect:"
      ]
    },
    {
      "cell_type": "code",
      "execution_count": 24,
      "id": "ea266921",
      "metadata": {
        "colab": {
          "base_uri": "https://localhost:8080/"
        },
        "id": "ea266921",
        "outputId": "fed0eca2-ec44-4654-f75c-9eef33033ef9"
      },
      "outputs": [
        {
          "output_type": "stream",
          "name": "stdout",
          "text": [
            "   Class  Alcohol  Malic Acid   Ash  Alcalinity of Ash  Magnesium  \\\n",
            "0      1    14.23        1.71  2.43               15.6        127   \n",
            "1      1    13.20        1.78  2.14               11.2        100   \n",
            "2      1    13.16        2.36  2.67               18.6        101   \n",
            "3      1    14.37        1.95  2.50               16.8        113   \n",
            "4      1    13.24        2.59  2.87               21.0        118   \n",
            "\n",
            "   Total Phenols  Flavanoids  Nonflavanoid Phenols  Proanthocyanins  \\\n",
            "0           2.80        3.06                  0.28             2.29   \n",
            "1           2.65        2.76                  0.26             1.28   \n",
            "2           2.80        3.24                  0.30             2.81   \n",
            "3           3.85        3.49                  0.24             2.18   \n",
            "4           2.80        2.69                  0.39             1.82   \n",
            "\n",
            "   Color Intensity   Hue  OD280/OD315 of Diluted Wines  Proline  \n",
            "0             5.64  1.04                          3.92     1065  \n",
            "1             4.38  1.05                          3.40     1050  \n",
            "2             5.68  1.03                          3.17     1185  \n",
            "3             7.80  0.86                          3.45     1480  \n",
            "4             4.32  1.04                          2.93      735  \n"
          ]
        }
      ],
      "source": [
        "\n",
        "print(wine_data.head())\n"
      ]
    },
    {
      "cell_type": "markdown",
      "id": "834fc8fe",
      "metadata": {
        "id": "834fc8fe"
      },
      "source": [
        "Check to see if there are any missing values in the dataset. If necessary, select an appropriate method to fill-in the missing values"
      ]
    },
    {
      "cell_type": "code",
      "execution_count": 9,
      "id": "97c6e9dc",
      "metadata": {
        "colab": {
          "base_uri": "https://localhost:8080/"
        },
        "id": "97c6e9dc",
        "outputId": "9f277ee5-d5f7-4f46-e564-22f8cfda88bb"
      },
      "outputs": [
        {
          "output_type": "stream",
          "name": "stdout",
          "text": [
            "Missing Values:\n",
            " Class                           0\n",
            "Alcohol                         0\n",
            "Malic Acid                      0\n",
            "Ash                             0\n",
            "Alcalinity of Ash               0\n",
            "Magnesium                       0\n",
            "Total Phenols                   0\n",
            "Flavanoids                      0\n",
            "Nonflavanoid Phenols            0\n",
            "Proanthocyanins                 0\n",
            "Color Intensity                 0\n",
            "Hue                             0\n",
            "OD280/OD315 of Diluted Wines    0\n",
            "Proline                         0\n",
            "dtype: int64\n"
          ]
        }
      ],
      "source": [
        "\n",
        "# This code calculates the number of missing values in each column of the 'wine_data' DataFrame.\n",
        "# It uses the 'isnull()' method to identify missing values and 'sum()' to count them.\n",
        "\n",
        "missing_values = wine_data.isnull().sum()\n",
        "\n",
        "# This line prints out the count of missing values for each column.\n",
        "print(\"Missing Values:\\n\", missing_values)\n"
      ]
    },
    {
      "cell_type": "markdown",
      "id": "070956af",
      "metadata": {
        "id": "070956af"
      },
      "source": [
        "How many samples do we have of each type of wine?"
      ]
    },
    {
      "cell_type": "code",
      "execution_count": 25,
      "id": "b37a6fd9",
      "metadata": {
        "colab": {
          "base_uri": "https://localhost:8080/"
        },
        "id": "b37a6fd9",
        "outputId": "34e93f94-5938-4787-f12f-b6a491370754"
      },
      "outputs": [
        {
          "output_type": "stream",
          "name": "stdout",
          "text": [
            "Number of samples for each type of wine:\n",
            "2    71\n",
            "1    59\n",
            "3    48\n",
            "Name: Class, dtype: int64\n"
          ]
        }
      ],
      "source": [
        "\n",
        "# This code calculates the count of each unique value in the \"Class\" column of the 'wine_data' DataFrame.\n",
        "wine_counts = wine_data[\"Class\"].value_counts()\n",
        "\n",
        "# Printing the number of samples for each type of wine.\n",
        "print(\"Number of samples for each type of wine:\")\n",
        "# Printing the counts for each unique value in the \"Class\" column.\n",
        "print(wine_counts)\n"
      ]
    },
    {
      "cell_type": "markdown",
      "id": "70e6c46f",
      "metadata": {
        "id": "70e6c46f"
      },
      "source": [
        "### Step 3: Implement Machine Learning Model\n",
        "\n",
        "1. Import `SVC` and `DecisionTreeClassifier` from sklearn\n",
        "2. Instantiate models as `SVC()` and `DecisionTreeClassifier(max_depth = 3)`\n",
        "3. Implement the machine learning model with `X` and `y`"
      ]
    },
    {
      "cell_type": "markdown",
      "id": "0870b0d2",
      "metadata": {
        "id": "0870b0d2"
      },
      "source": [
        "### Step 4: Validate Model\n",
        "\n",
        "Calculate the average training and validation accuracy using `cross_validate` for the two different models listed in Step 3. For this case, use `scoring='accuracy'`"
      ]
    },
    {
      "cell_type": "markdown",
      "id": "bb0bbd83",
      "metadata": {
        "id": "bb0bbd83"
      },
      "source": [
        "### Step 5: Visualize Results (4 marks)\n",
        "\n",
        "#### Step 5.1: Compare Models\n",
        "1. Create a pandas DataFrame `results` with columns: Training accuracy and Validation accuracy\n",
        "2. Add the data size, training and validation accuracy for each dataset to the `results` DataFrame\n",
        "3. Print `results`"
      ]
    },
    {
      "cell_type": "code",
      "execution_count": 27,
      "id": "be4b5c0a",
      "metadata": {
        "colab": {
          "base_uri": "https://localhost:8080/"
        },
        "id": "be4b5c0a",
        "outputId": "2f5c3f9e-3c6c-4b59-966c-e2aceb0d61f6"
      },
      "outputs": [
        {
          "output_type": "stream",
          "name": "stdout",
          "text": [
            "Model Comparison Results:\n",
            "               Data Size  Training Accuracy  Validation Accuracy\n",
            "SVC                178.0           0.703743             0.663492\n",
            "Decision Tree      178.0           0.974756             0.882063\n"
          ]
        }
      ],
      "source": [
        "# Import necessary modules for building machine learning models.\n",
        "from sklearn.svm import SVC\n",
        "from sklearn.tree import DecisionTreeClassifier\n",
        "\n",
        "# Create an instance of Support Vector Machine (SVC) and Decision Tree Classifier models.\n",
        "svc_model = SVC()\n",
        "dt_model = DecisionTreeClassifier(max_depth=3)\n",
        "\n",
        "# Fit the SVC and Decision Tree models to the data (X and y).\n",
        "svc_model.fit(X, y)\n",
        "dt_model.fit(X, y)\n",
        "\n",
        "# Perform cross-validation for the SVC and Decision Tree models, scoring them on accuracy.\n",
        "svc_scores = cross_validate(svc_model, X, y, scoring='accuracy', return_train_score=True)\n",
        "dt_scores = cross_validate(dt_model, X, y, scoring='accuracy', return_train_score=True)\n",
        "\n",
        "# Calculate the mean training and validation accuracy for the SVC and Decision Tree models.\n",
        "svc_train_accuracy = svc_scores['train_score'].mean()\n",
        "svc_val_accuracy = svc_scores['test_score'].mean()\n",
        "dt_train_accuracy = dt_scores['train_score'].mean()\n",
        "dt_val_accuracy = dt_scores['test_score'].mean()\n",
        "\n",
        "# Create an empty DataFrame to store the model comparison results.\n",
        "results = pd.DataFrame(columns=[\"Data Size\", \"Training Accuracy\", \"Validation Accuracy\"])\n",
        "\n",
        "# Populate the results DataFrame with the information for the SVC and Decision Tree models.\n",
        "results.loc[\"SVC\"] = [len(X), svc_train_accuracy, svc_val_accuracy]\n",
        "results.loc[\"Decision Tree\"] = [len(X), dt_train_accuracy, dt_val_accuracy]\n",
        "\n",
        "# Print the model comparison results.\n",
        "print(\"Model Comparison Results:\")\n",
        "print(results)\n",
        "\n"
      ]
    },
    {
      "cell_type": "markdown",
      "id": "f2e17878",
      "metadata": {
        "id": "f2e17878"
      },
      "source": [
        "#### Step 5.2: Visualize Classification Errors\n",
        "Which method gave the highest accuracy? Use this method to print the confusion matrix and classification report:"
      ]
    },
    {
      "cell_type": "code",
      "execution_count": 13,
      "id": "44b091a4",
      "metadata": {
        "colab": {
          "base_uri": "https://localhost:8080/"
        },
        "id": "44b091a4",
        "outputId": "7a54d819-c9ad-4790-f9db-4f88e31024aa"
      },
      "outputs": [
        {
          "output_type": "stream",
          "name": "stdout",
          "text": [
            "The method with the highest accuracy is: Decision Tree\n",
            "Validation Accuracy of the best model: 0.8876190476190476\n"
          ]
        }
      ],
      "source": [
        "\n",
        "# Determine the best model based on validation accuracy.\n",
        "# If Support Vector Classifier (SVC) has a higher accuracy,\n",
        "\n",
        "best_model = \"SVC\" if svc_val_accuracy > dt_val_accuracy else \"Decision Tree\"\n",
        "\n",
        "# Print the best model found based on validation accuracy.\n",
        "print(f\"The method with the highest accuracy is: {best_model}\")\n",
        "\n",
        "# Print the validation accuracy of the best model.\n",
        "\n",
        "print(f\"Validation Accuracy of the best model: {svc_val_accuracy if best_model == 'SVC' else dt_val_accuracy}\")\n",
        "\n",
        "# If the best model is \"SVC,\" make predictions using the SVC model;\n",
        "# otherwise, make predictions using the Decision Tree model.\n",
        "if best_model == \"SVC\":\n",
        "    y_pred = svc_model.predict(X)\n",
        "else:\n",
        "    y_pred = dt_model.predict(X)\n",
        "\n",
        "# Calculate the confusion matrix (cm) and classification report (cr)\n",
        "\n",
        "cm = confusion_matrix(y, y_pred)\n",
        "cr = classification_report(y, y_pred, target_names=wine_counts.index.astype(str).tolist())\n"
      ]
    },
    {
      "cell_type": "code",
      "execution_count": 15,
      "id": "09d21b59",
      "metadata": {
        "colab": {
          "base_uri": "https://localhost:8080/",
          "height": 562
        },
        "id": "09d21b59",
        "outputId": "d9940406-c98a-4da7-d509-c1eda278463a"
      },
      "outputs": [
        {
          "output_type": "display_data",
          "data": {
            "text/plain": [
              "<Figure size 800x600 with 2 Axes>"
            ],
            "image/png": "[encoded data removed]"
          },
          "metadata": {}
        }
      ],
      "source": [
        "\n",
        "\n",
        "# TO DO: Print confusion matrix using a heatmap\n",
        "\n",
        "plt.figure(figsize=(8, 6))\n",
        "\n",
        "sns.heatmap(cm, annot=True, fmt=\"d\", cmap=\"Blues\", xticklabels=wine_counts.index, yticklabels=wine_counts.index)\n",
        "\n",
        "\n",
        "plt.xlabel('Predicted')\n",
        "\n",
        "plt.ylabel('Actual')\n",
        "\n",
        "plt.title('Confusion Matrix')\n",
        "\n",
        "plt.show()\n"
      ]
    },
    {
      "cell_type": "code",
      "execution_count": 16,
      "id": "5ef95947",
      "metadata": {
        "colab": {
          "base_uri": "https://localhost:8080/"
        },
        "id": "5ef95947",
        "outputId": "4ce6e031-b96c-4f8a-d600-53dde1ab0261"
      },
      "outputs": [
        {
          "output_type": "stream",
          "name": "stdout",
          "text": [
            "Classification Report for the best model:\n",
            "              precision    recall  f1-score   support\n",
            "\n",
            "           2       1.00      0.97      0.98        59\n",
            "           1       0.96      0.99      0.97        71\n",
            "           3       0.98      0.98      0.98        48\n",
            "\n",
            "    accuracy                           0.98       178\n",
            "   macro avg       0.98      0.98      0.98       178\n",
            "weighted avg       0.98      0.98      0.98       178\n",
            "\n"
          ]
        }
      ],
      "source": [
        "# TO DO: Print classification report\n",
        "\n",
        "# Predict the target values based on the best model (SVC or Decision Tree).\n",
        "y_pred = svc_model.predict(X) if best_model == \"SVC\" else dt_model.predict(X)\n",
        "\n",
        "# Generate a classification report based on the true labels (y) and the predicted labels (y_pred).\n",
        "report = classification_report(y, y_pred, target_names=wine_counts.index.astype(str).tolist())\n",
        "\n",
        "# Print the classification report for the best model.\n",
        "print(\"Classification Report for the best model:\")\n",
        "print(report)\n"
      ]
    },
    {
      "cell_type": "markdown",
      "id": "bf319621",
      "metadata": {
        "id": "bf319621"
      },
      "source": [
        "### Questions (6 marks)\n",
        "1. How do the training and validation accuracy change depending on the method used? Explain with values.\n",
        "1. What are two reasons why the support vector machines model did not work as well as the tree-based model?\n",
        "1. How many samples were incorrectly classified in step 5.2?\n",
        "1. In this case, is maximizing precision or recall more important? Why?\n",
        "\n",
        "*YOUR ANSWERS HERE*\n",
        "\n",
        "\n",
        "1. SVMs encounter difficulties when dealing with intricate, non-linear datasets, especially when the data lacks clear separation or when the decision boundary isn't easily defined by a hyperplane. The performance of SVMs can also vary significantly depending on the choice of hyperparameters. Improperly tuned hyperparameters can result in suboptimal model performance.\n",
        "\n",
        "2.\n",
        "\n",
        " The Decision Tree Classifier exhibits superior training and validation accuracy in comparison to the SVC. This implies that the Decision Tree model effectively captures intricate data patterns and generalizes well to new, unseen data.\n",
        "\n",
        "3. To ascertain the count of misclassified samples, you can calculate the complementary value to the accuracy.\n",
        "Number of misclassified samples = Total samples - Correctly classified samples\n",
        "Number of misclassified samples = 178 - (178 * 0.98)\n",
        "Number of misclassified samples = 3.56\n",
        "As it's impossible to have a fraction of a sample being misclassified, this indicates that 3 samples were inaccurately classified.\n",
        "\n",
        "4. In this dataset, we observe high precision and recall values for each class, indicating the model's strong performance. In this scenario, false positives have a lower impact, and therefore, the emphasis should be on maximizing recall."
      ]
    },
    {
      "cell_type": "markdown",
      "id": "664ff8ae",
      "metadata": {
        "id": "664ff8ae"
      },
      "source": [
        "### Process Description (4 marks)\n",
        "Please describe the process you used to create your code. Cite any websites or generative AI tools used. You can use the following questions as guidance:\n",
        "1. Where did you source your code?\n",
        "1. In what order did you complete the steps?\n",
        "1. If you used generative AI, what prompts did you use? Did you need to modify the code at all? Why or why not?\n",
        "1. Did you have any challenges? If yes, what were they? If not, what helped you to be successful?"
      ]
    },
    {
      "cell_type": "markdown",
      "id": "d0e837da",
      "metadata": {
        "id": "d0e837da"
      },
      "source": [
        "*DESCRIBE YOUR PROCESS HERE*\n",
        "\n",
        "1. I applied the concepts from lectures to formulate the basic structure of the code, and then enlisted the assistance of generative AIs to refine the exact syntax.\n",
        "2. I tackled the questions in the sequence recommended within the provided questions.\n",
        "3. I relied on AI to suggest column headers based on the data, although it wasn't entirely accurate. I needed to revisit the data and rectify the titles for three columns.\n",
        "4. Determining whether to prioritize maximizing recall or precision in the preceding section posed a challenge, as discerning between a false negative and false positive was often ambiguous in this particular application."
      ]
    },
    {
      "cell_type": "markdown",
      "id": "4cd7358d",
      "metadata": {
        "id": "4cd7358d"
      },
      "source": [
        "## Part 3: Observations/Interpretation (3 marks)\n",
        "\n",
        "Describe any pattern you see in the results. Relate your findings to what we discussed during lectures. Include data to justify your findings.\n",
        "\n",
        "\n",
        "*ADD YOUR FINDINGS HERE*\n",
        "\n",
        "\n",
        "\n",
        "Question 1: Although training model R2 exhibits promising results, such as an R2 of 0.996 for DT, it doesn't guarantee good validation and generalization for the data. Hence, it is crucial to possess a representative dataset and assess the model's performance across various datasets.\n",
        "\n",
        "Question 2: F1-Score: The F1-score, which is the harmonic mean of precision and recall, achieves a balance between these two metrics. Across all classes (1, 2, and 3), the F1-scores are notably high, demonstrating a well-balanced trade-off between precision and recall.\n",
        "\n",
        "Macro Avg: The macro average represents the unweighted average of precision, recall, and F1-score across all classes. In this instance, the macro average stands at 0.98, signifying the model's strong performance across all classes.\n",
        "\n",
        "Precision & Recall: Precision quantifies the model's accuracy in making positive predictions, while recall (also known as sensitivity or true positive rate) assesses the model's ability to identify all relevant instances. In our dataset, both precision and recall exhibit exceptionally high values, indicating that the model is an excellent fit for this data."
      ]
    },
    {
      "cell_type": "markdown",
      "id": "cd97b6ac",
      "metadata": {
        "id": "cd97b6ac"
      },
      "source": [
        "## Part 4: Reflection (2 marks)\n",
        "Include a sentence or two about:\n",
        "- what you liked or disliked,\n",
        "- found interesting, confusing, challangeing, motivating\n",
        "while working on this assignment.\n",
        "\n",
        "\n",
        "I appreciated the assignment's structured approach, which effectively guided me towards finding the answers. If the question had presented a single, broad task of identifying a suitable model, I believe it would have posed a challenge for me. However, by breaking down the problem into sequential steps, beginning with calculating MSE values, then R2 values, creating heat maps, and ultimately instructing us to compare the best models, it made the task more manageable.\n",
        "\n",
        "I found the theoretical and deductive aspects following the coding to be engaging. Unlike many other courses where coding dominates, the inclusion of theory allows us to gain a deeper understanding of the purpose of the code and its relevance in real-world applications. This theoretical component enhances our ability to connect theory to practical implementation.\n",
        "*ADD YOUR THOUGHTS HERE*"
      ]
    },
    {
      "cell_type": "markdown",
      "id": "fa21e53b",
      "metadata": {
        "id": "fa21e53b"
      },
      "source": [
        "## Part 5: Bonus Question (3 marks)\n",
        "\n",
        "Repeat Part 2 and compare the support vector machines model used to `LinearSVC(max_iter=5000)`. Does using `LinearSVC` improve the results? Why or why not?\n",
        "\n",
        "Is `LinearSVC` a good fit for this dataset? Why or why not?"
      ]
    },
    {
      "cell_type": "code",
      "execution_count": 22,
      "id": "30fea72e",
      "metadata": {
        "colab": {
          "base_uri": "https://localhost:8080/"
        },
        "id": "30fea72e",
        "outputId": "f3c95b2a-fc4f-4293-ae69-3969a49ee4fe"
      },
      "outputs": [
        {
          "output_type": "stream",
          "name": "stdout",
          "text": [
            "                  Training Accuracy Validation Accuracy\n",
            "Decision Tree                   1.0            0.944444\n",
            "Random Forest                   1.0                 1.0\n",
            "Gradient Boosting               1.0            0.944444\n",
            "LinearSVC                  0.915493            0.972222\n"
          ]
        },
        {
          "output_type": "stream",
          "name": "stderr",
          "text": [
            "/usr/local/lib/python3.10/dist-packages/sklearn/svm/_base.py:1244: ConvergenceWarning: Liblinear failed to converge, increase the number of iterations.\n",
            "  warnings.warn(\n"
          ]
        }
      ],
      "source": [
        "import pandas as pd\n",
        "from sklearn.model_selection import train_test_split\n",
        "from sklearn.tree import DecisionTreeClassifier\n",
        "from sklearn.ensemble import RandomForestClassifier, GradientBoostingClassifier\n",
        "from sklearn.svm import LinearSVC\n",
        "from sklearn.metrics import accuracy_score\n",
        "from yellowbrick.classifier import ClassificationReport\n",
        "\n",
        "# Data Source\n",
        "url = \"https://archive.ics.uci.edu/ml/machine-learning-databases/wine/wine.data\"\n",
        "column_names = [\n",
        "    \"Class\",\n",
        "    \"Alcohol\",\n",
        "    \"Malic acid\",\n",
        "    \"Ash\",\n",
        "    \"Alcalinity of ash\",\n",
        "    \"Magnesium\",\n",
        "    \"Total phenols\",\n",
        "    \"Flavanoids\",\n",
        "    \"Nonflavanoid phenols\",\n",
        "    \"Proanthocyanins\",\n",
        "    \"Color intensity\",\n",
        "    \"Hue\",\n",
        "    \"OD280/OD315 of diluted wines\",\n",
        "    \"Proline\"\n",
        "]\n",
        "data = pd.read_csv(url, names=column_names)\n",
        "\n",
        "# Splitting Data\n",
        "X = data.drop(\"Class\", axis=1)\n",
        "y = data[\"Class\"]\n",
        "X_train, X_val, y_train, y_val = train_test_split(X, y, test_size=0.2, random_state=42)\n",
        "\n",
        "# Models\n",
        "models = {\n",
        "    \"Decision Tree\": DecisionTreeClassifier(),\n",
        "    \"Random Forest\": RandomForestClassifier(),\n",
        "    \"Gradient Boosting\": GradientBoostingClassifier(),\n",
        "    \"LinearSVC\": LinearSVC(max_iter=5000)\n",
        "}\n",
        "\n",
        "# Model Evaluation\n",
        "results = pd.DataFrame(columns=[\"Training Accuracy\", \"Validation Accuracy\"], index=models.keys())\n",
        "\n",
        "for model_name, model in models.items():\n",
        "    model.fit(X_train, y_train)\n",
        "\n",
        "    y_train_pred = model.predict(X_train)\n",
        "    train_accuracy = accuracy_score(y_train, y_train_pred)\n",
        "\n",
        "    y_val_pred = model.predict(X_val)\n",
        "    val_accuracy = accuracy_score(y_val, y_val_pred)\n",
        "\n",
        "    results.loc[model_name, \"Training Accuracy\"] = train_accuracy\n",
        "    results.loc[model_name, \"Validation Accuracy\"] = val_accuracy\n",
        "\n",
        "# Display Results\n",
        "print(results)\n"
      ]
    },
    {
      "cell_type": "markdown",
      "id": "aabc68a4",
      "metadata": {
        "id": "aabc68a4"
      },
      "source": [
        "*ANSWER HERE*"
      ]
    },
    {
      "cell_type": "code",
      "execution_count": null,
      "id": "241c3b12",
      "metadata": {
        "id": "241c3b12"
      },
      "outputs": [],
      "source": []
    }
  ],
  "metadata": {
    "kernelspec": {
      "display_name": "Python 3 (ipykernel)",
      "language": "python",
      "name": "python3"
    },
    "language_info": {
      "codemirror_mode": {
        "name": "ipython",
        "version": 3
      },
      "file_extension": ".py",
      "mimetype": "text/x-python",
      "name": "python",
      "nbconvert_exporter": "python",
      "pygments_lexer": "ipython3",
      "version": "3.11.5"
    },
    "colab": {
      "provenance": []
    }
  },
  "nbformat": 4,
  "nbformat_minor": 5
}